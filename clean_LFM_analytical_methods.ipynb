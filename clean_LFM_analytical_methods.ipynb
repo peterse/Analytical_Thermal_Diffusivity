{
 "cells": [
  {
   "cell_type": "code",
   "execution_count": 3,
   "metadata": {
    "collapsed": false
   },
   "outputs": [
    {
     "data": {
      "application/javascript": [
       "javascript:$('.math>span').css(\"border-left-color\",\"transparent\")"
      ],
      "text/plain": [
       "<IPython.core.display.Javascript object>"
      ]
     },
     "metadata": {},
     "output_type": "display_data"
    }
   ],
   "source": [
    "%%javascript \n",
    "javascript:$('.math>span').css(\"border-left-color\",\"transparent\")"
   ]
  },
  {
   "cell_type": "markdown",
   "metadata": {},
   "source": [
    "Definitions of terms:\n",
    "- Diffusivity $\\alpha$\n",
    "- Conductivity $k$\n",
    "- Temperature $u(\\vec{r})$\n",
    "- Cylinder radius $R$\n",
    "- Axial thickness $L$"
   ]
  },
  {
   "cell_type": "markdown",
   "metadata": {},
   "source": [
    "Parker (1962)\n",
    "\n",
    "**Assumptions**: Ideal boundaries\n",
    "- Constant $k$\n",
    "- Very thin heat deposition layer ($ U(z) \\approx \\delta(z) $)\n",
    "- Homogeneous deposition ($ V(r) = 1$ )\n",
    "- Instantaneous Pulse ($ W(t) \\approx \\delta(t) $)\n",
    "\n",
    "**Boundary Conditions**: Ideal (axial and radial)\n",
    "\n",
    "$$ \\frac{dT}{dz}\\bigg\\rvert_{(0,r,t)}= \\frac{dT}{dz}\\bigg\\rvert_{(L,r,t)}=\\frac{dT}{dz}\\bigg\\rvert_{(z,R,t)}=0 $$\n",
    "\n",
    "**Equation**:\n",
    "\n",
    "$$u(L,t)=\\frac{Q}{\\rho c_p L}\\left(1 + 2\\sum_{n=1}^\\infty (-1)^n e^{n^2 \\pi^2 \\alpha t \\,/\\,L^2}\\right)$$\n",
    "\n"
   ]
  },
  {
   "cell_type": "markdown",
   "metadata": {},
   "source": [
    "Cape and Lehman (1963)\n",
    "\n",
    "Assumptions:\n",
    "\n",
    "- Constant $k$\n",
    "- Very thin heat deposition layer ($ U(z) \\approx \\delta(z) $)\n",
    "- Homogeneous deposition ($ V(r) = 1$ )\n",
    "- Instantaneous Pulse ($ W(t) \\approx \\delta(t) $)\n",
    "\n",
    "Boundary Conditions:\n",
    "\n",
    "\n",
    "For a separable heat deposition $ q(z,r,t)=q_0 U(z) V(r) W(t) $, and \"radiation\" boundary conditions that are first order in $ T $:\n",
    "\n",
    "$$ k\\frac{dT}{dz}\\bigg\\rvert_{(0,r,t)}=4\\sigma \\epsilon_z T_0^3 T(0,r,t) $$\n",
    "$$ k\\frac{dT}{dz}\\bigg\\rvert_{(L,r,t)}=-4\\sigma \\epsilon_z T_0^3 T(L,r,t)$$\n",
    "$$ k\\frac{dT}{dz}\\bigg\\rvert_{(z,R,t)}=-4\\sigma \\epsilon_r T_0^3 T(z,R,t)$$\n",
    "\n",
    "Model:\n",
    "\n",
    "$$ u(L,r,t) = u_0 + \\frac{2q_0}{R k} \\sum_{i=0}^\\infty \\frac{\\zeta_i}{Y_r^2 + \\zeta_i^2} \\frac{J_0\\left(\\frac{\\zeta_i r}{R}\\right)}{J_0^2(\\zeta_i)} \\bar{V}(\\zeta_i) \\bar{F}(\\zeta_i, t) $$\n",
    "\n",
    "For $ U(z) = \\delta(z) $ and $ V(r) = 1$, $ W(t) = \\delta(t) $ this becomes:\n",
    "\n",
    "$$ u(L,r,t) = u_0 + \\frac{q_0}{k}\\sum_{m=0}^\\infty C_m X_M \\sum_{i=0}^\\infty D_i(r, Y_r) e^{-\\omega_{im}\\alpha t} $$\n",
    "\n",
    "$Y_{z,r}$ are moments of the boundary temperature derivative:\n",
    "\n",
    "$$ Y_r \\equiv \\frac{4\\sigma \\epsilon_r u_0^3 r_0}{k} $$\n",
    "$$ Y_z \\equiv \\frac{4\\sigma \\epsilon_z u_0^3 L}{k} $$\n",
    "\n",
    "FIXME: Check with Sneddon pp84? The normalization factor for the Henkel transform of $ V(z) $: \n",
    "$$ D_i(r,Y_r)=  \\frac{2Y_r}{Y_r^2 + \\zeta_i^2}\\frac{J_0\\left(\\frac{\\zeta_i r}{R}\\right)}{J_0^2(\\zeta_i)} $$\n",
    "\n",
    "TODO: What is this?\n",
    "$$ C_m = \\frac{2\\alpha}{L} (-1)^m \\frac{X_m}{X_m^2 + 2Y_z + Y_z^2} $$\n",
    "\n",
    "TODO: What is this? $\\zeta_i$ is the root of the equation:\n",
    "\n",
    "$$ Y_r J_0\\left(\\zeta_i\\right) = \\zeta_i J_1\\left(\\zeta_i\\right) $$\n",
    "\n",
    "TODO: What is this? $X_m$ is the root of the equation:\n",
    "\n",
    "$$(X_m^2-Y_z^2)\\tan\\left(X_m\\right) = 2 X_m Y_z $$\n",
    "\n",
    "$\\omega_{im}$ is the exponent in the time-dependent term analogous to $\\frac{n^2 \\pi^2}{L^2}$ in Parker's ideal solution.  \n",
    "$$ \\omega_{im} = \\left( \\frac{X_m^2}{L^2} + \\frac{\\zeta_i^2}{R^2} \\right) $$\n",
    "\n",
    "_Note:_ I have modified the definition that Cape used. The define a characteristic time $ t_c=\\left(\\frac{L^2}{\\pi^2}\\right)^2 \\alpha$ and include a corresponding factor of $\\frac{L^2}{\\pi^2}$ in $\\omega_{im}$\n",
    "\n",
    "TODO: Cape and LEhman's approximate solution....\n",
    "\n"
   ]
  },
  {
   "cell_type": "markdown",
   "metadata": {},
   "source": [
    "Cowan 1962\n",
    "\n",
    "Assumptions:\n",
    "\n",
    "- Constant $k$\n",
    "- Very thin heat deposition layer ($ U(z) \\approx \\delta(z) $)\n",
    "- Defer to Cowan (1961) eqn. (16)\n",
    "\n",
    "Boundary Conditions:\n",
    "\n",
    "Applying radiative boundary conditions such that $W_z = \\sigma \\epsilon_z T^4 $ (power radiated per unit area), the factors defining Cowan's boundary conditions become:\n",
    "\n",
    "$$ c_0 = \\frac{4\\sigma \\epsilon_z T_0^3}{k} $$\n",
    "$$ c_L = \\frac{4\\sigma \\epsilon_z T_0^3}{k} $$\n",
    "\n",
    "Model:\n",
    "\n",
    "$$ u(x,t)=2\\frac{L c_p \\rho}{Q} \\sum_{n=0}^\\infty y_n^2 \\frac{\\cos\\left(\\frac{y_n (L-z)}{L}\\right) + \\frac{a}{y_n(1+r)}\\sin\\left(\\frac{y_n (L-z)}{L}\\right)}{D_n \\exp{\\left(\\frac{\\alpha y_n^2 t}{L^2}\\right)}} $$\n"
   ]
  },
  {
   "cell_type": "markdown",
   "metadata": {},
   "source": []
  },
  {
   "cell_type": "markdown",
   "metadata": {},
   "source": [
    "Trial run of Bart (2003)\n",
    "\n",
    "Bart proposes the use of a _shape factor_ in calculating long-term temperature decay of solids with prescribed Direchlet boundary conditions. The temperature behavior of an object based on its shape factor is give as:\n",
    "\n",
    "$$ [\\theta] \\propto 1 - e^\\frac{-f_s \\pi^2 Fo}{4} $$\n",
    "\n",
    "where $[\\theta]$ is the mean dimensionless temperature. Using the value of $Fo$ for a cylinder and , the temperature behavior is implied to be:\n",
    "\n",
    "$$ Fo = \\frac{\\alpha t}{\\left( \\frac{1}{L} + \\frac{2}{R}\\right)^2} $$\n",
    "\n",
    "and the given shape factor $f_s$ for a cylinder is:\n",
    "\n",
    "$$ f_s = \\frac{ \\frac{1}{L^2} + \\frac{4J_0(\\chi_0)^2}{(\\pi R)^2} }{\\left( \\frac{1}{L} + \\frac{2}{R}\\right)^2} $$\n",
    "\n",
    "Where $J_0(\\chi_0)$ is the first root of the Bessel function of the firt kind. Thus, the predicted temperature behavior is:\n",
    "\n",
    "$$ [\\theta] \\propto 1 - e^{\\frac{-\\pi^2 \\alpha t}{4} \\left[ \\frac{1}{L^2} + \\frac{4J_0(\\chi_0)^2}{(\\pi R)^2}\\right] } $$\n",
    "\n",
    "Current task: Determine if this tweak on the exponential can adjust the solution to be like Cowan or Cape & Lehman.\n",
    "\n",
    "Bart describes the process of modelling an equivalent one-dimensional object by distorting the transient heat conduction equation for a slab/cylinder/sphere to account for the boundary shape of a new object:\n",
    "\n",
    "$$\\frac{\\del T}{\\del \\tau} = \\frac{\\del^2 T}{\\del Z^2} - \\left(1-\\frac{Z}{\\nu}\\right)^{-1} \\frac{\\nu -1}{\\nu} \\frac{\\del T}{\\del Z} $$\n",
    "\n",
    "with:\n",
    "\n",
    "$$ Z \\equiv z \\frac{S}{V} $$\n",
    "\n",
    "Let $T(\\rho, \\tau) = F(\\rho)exp(\\beta_i \\tau)$. The spatial part of this equation $F(\\rho)$ transforms to be\n",
    "$$\\rho^2 \\frac{d^2 F}{d\\rho^2} + (\\nu -1)\\rho \\frac{dF}{d\\rho} + \\Beta_i^2\\rho^2F = 0$$\n",
    "With a general solution of:\n",
    "\n",
    "$$ F = \\rho ...$$\n",
    "\n",
    "Bart uses boundary conditions of the first kind $\\del_\\rho T = 0$ for $\\rho=0$ to simplify this (eliminating all but $J_0$ terms. The current task is the following:\n",
    "\n",
    "\\begin{enumerate}\n",
    "    \\item Set up calculations of beta, f_shape, etc.\n",
    "    \\item Modify the assumption of boundary conditions to keep more $J$ terms. This may involve ref. Sneddon, Cape/Lehman for solving the modified \"Sturm-Liouville\" equation that results from the above separation of vars.\n",
    "    \\item Apply $T(\\rho, \\tau) = F(\\rho)exp(\\beta_i \\tau)$ and check the results against Cape and Lehman\n",
    "    \\item Find out what the temperature distribution scheme is for this method...\n",
    "\n",
    "\\end{enumerate}\n",
    "\n"
   ]
  },
  {
   "cell_type": "code",
   "execution_count": null,
   "metadata": {
    "collapsed": true
   },
   "outputs": [],
   "source": []
  }
 ],
 "metadata": {
  "kernelspec": {
   "display_name": "Python 2",
   "language": "python",
   "name": "python2"
  },
  "language_info": {
   "codemirror_mode": {
    "name": "ipython",
    "version": 2
   },
   "file_extension": ".py",
   "mimetype": "text/x-python",
   "name": "python",
   "nbconvert_exporter": "python",
   "pygments_lexer": "ipython2",
   "version": "2.7.11"
  }
 },
 "nbformat": 4,
 "nbformat_minor": 0
}
